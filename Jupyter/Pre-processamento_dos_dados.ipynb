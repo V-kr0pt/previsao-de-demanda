{
 "cells": [
  {
   "cell_type": "markdown",
   "metadata": {},
   "source": [
    "# Pré processamento dos dados\n",
    "## Conhecendo os dados "
   ]
  },
  {
   "cell_type": "markdown",
   "metadata": {},
   "source": [
    "## Objetivos: \n",
    "    -> Criar uma cópia DataFrame, utilizando a formatação Datetime (1) ok!\n",
    "    -> Armazenar a potência máxima dos dias (2) ok!\n",
    "    -> Armazenar a potência máxima das semanas (3) ok!\n",
    "    -> Plotar os dados dos dias (4) ok~\n",
    "    -> Plotar os dados das semenas (5)"
   ]
  },
  {
   "cell_type": "code",
   "execution_count": 1,
   "metadata": {},
   "outputs": [],
   "source": [
    "import pandas as pd\n",
    "import datetime as dt\n",
    "import matplotlib.pyplot as plt"
   ]
  },
  {
   "cell_type": "code",
   "execution_count": 24,
   "metadata": {},
   "outputs": [],
   "source": [
    "%matplotlib inline\n",
    "path = '/home/kr0pt/Documents/Pesquisa/Codes/Dados/Dados_JPS_12B1(01_01_2008-0h0m--31_12_2013-23h45m).csv'\n",
    "df_bruto = pd.read_csv(path, sep=';')"
   ]
  },
  {
   "cell_type": "code",
   "execution_count": 3,
   "metadata": {},
   "outputs": [
    {
     "data": {
      "text/html": [
       "<div>\n",
       "<style scoped>\n",
       "    .dataframe tbody tr th:only-of-type {\n",
       "        vertical-align: middle;\n",
       "    }\n",
       "\n",
       "    .dataframe tbody tr th {\n",
       "        vertical-align: top;\n",
       "    }\n",
       "\n",
       "    .dataframe thead th {\n",
       "        text-align: right;\n",
       "    }\n",
       "</style>\n",
       "<table border=\"1\" class=\"dataframe\">\n",
       "  <thead>\n",
       "    <tr style=\"text-align: right;\">\n",
       "      <th></th>\n",
       "      <th>DIA</th>\n",
       "      <th>MES</th>\n",
       "      <th>ANO</th>\n",
       "      <th>HORA</th>\n",
       "      <th>MINUTO</th>\n",
       "      <th>JPS_12B1</th>\n",
       "      <th>Unnamed: 6</th>\n",
       "    </tr>\n",
       "  </thead>\n",
       "  <tbody>\n",
       "    <tr>\n",
       "      <th>0</th>\n",
       "      <td>1</td>\n",
       "      <td>1</td>\n",
       "      <td>2008</td>\n",
       "      <td>0</td>\n",
       "      <td>0</td>\n",
       "      <td>7,90000009536743</td>\n",
       "      <td>NaN</td>\n",
       "    </tr>\n",
       "    <tr>\n",
       "      <th>1</th>\n",
       "      <td>1</td>\n",
       "      <td>1</td>\n",
       "      <td>2008</td>\n",
       "      <td>0</td>\n",
       "      <td>15</td>\n",
       "      <td>7,69999980926514</td>\n",
       "      <td>NaN</td>\n",
       "    </tr>\n",
       "    <tr>\n",
       "      <th>2</th>\n",
       "      <td>1</td>\n",
       "      <td>1</td>\n",
       "      <td>2008</td>\n",
       "      <td>0</td>\n",
       "      <td>30</td>\n",
       "      <td>7,69999980926514</td>\n",
       "      <td>NaN</td>\n",
       "    </tr>\n",
       "    <tr>\n",
       "      <th>3</th>\n",
       "      <td>1</td>\n",
       "      <td>1</td>\n",
       "      <td>2008</td>\n",
       "      <td>0</td>\n",
       "      <td>45</td>\n",
       "      <td>7,40000009536743</td>\n",
       "      <td>NaN</td>\n",
       "    </tr>\n",
       "    <tr>\n",
       "      <th>4</th>\n",
       "      <td>1</td>\n",
       "      <td>1</td>\n",
       "      <td>2008</td>\n",
       "      <td>1</td>\n",
       "      <td>0</td>\n",
       "      <td>7,40000009536743</td>\n",
       "      <td>NaN</td>\n",
       "    </tr>\n",
       "    <tr>\n",
       "      <th>5</th>\n",
       "      <td>1</td>\n",
       "      <td>1</td>\n",
       "      <td>2008</td>\n",
       "      <td>1</td>\n",
       "      <td>15</td>\n",
       "      <td>7,40000009536743</td>\n",
       "      <td>NaN</td>\n",
       "    </tr>\n",
       "  </tbody>\n",
       "</table>\n",
       "</div>"
      ],
      "text/plain": [
       "   DIA  MES   ANO  HORA  MINUTO          JPS_12B1  Unnamed: 6\n",
       "0    1    1  2008     0       0  7,90000009536743         NaN\n",
       "1    1    1  2008     0      15  7,69999980926514         NaN\n",
       "2    1    1  2008     0      30  7,69999980926514         NaN\n",
       "3    1    1  2008     0      45  7,40000009536743         NaN\n",
       "4    1    1  2008     1       0  7,40000009536743         NaN\n",
       "5    1    1  2008     1      15  7,40000009536743         NaN"
      ]
     },
     "execution_count": 3,
     "metadata": {},
     "output_type": "execute_result"
    }
   ],
   "source": [
    "#conhecendo o Dataframe\n",
    "\n",
    "df_bruto.head(n=6)"
   ]
  },
  {
   "cell_type": "markdown",
   "metadata": {},
   "source": [
    "##### Após JPS_12B1 existe um ponto e vírgula \";\", por esse motivo o Pandas identificou a existência de uma coluna a mais que chamou de 'Unnamed: 6', o próximo passo é remove-la. "
   ]
  },
  {
   "cell_type": "code",
   "execution_count": 4,
   "metadata": {},
   "outputs": [
    {
     "data": {
      "text/html": [
       "<div>\n",
       "<style scoped>\n",
       "    .dataframe tbody tr th:only-of-type {\n",
       "        vertical-align: middle;\n",
       "    }\n",
       "\n",
       "    .dataframe tbody tr th {\n",
       "        vertical-align: top;\n",
       "    }\n",
       "\n",
       "    .dataframe thead th {\n",
       "        text-align: right;\n",
       "    }\n",
       "</style>\n",
       "<table border=\"1\" class=\"dataframe\">\n",
       "  <thead>\n",
       "    <tr style=\"text-align: right;\">\n",
       "      <th></th>\n",
       "      <th>DIA</th>\n",
       "      <th>MES</th>\n",
       "      <th>ANO</th>\n",
       "      <th>HORA</th>\n",
       "      <th>MINUTO</th>\n",
       "      <th>JPS_12B1</th>\n",
       "    </tr>\n",
       "  </thead>\n",
       "  <tbody>\n",
       "    <tr>\n",
       "      <th>0</th>\n",
       "      <td>1</td>\n",
       "      <td>1</td>\n",
       "      <td>2008</td>\n",
       "      <td>0</td>\n",
       "      <td>0</td>\n",
       "      <td>7,90000009536743</td>\n",
       "    </tr>\n",
       "    <tr>\n",
       "      <th>1</th>\n",
       "      <td>1</td>\n",
       "      <td>1</td>\n",
       "      <td>2008</td>\n",
       "      <td>0</td>\n",
       "      <td>15</td>\n",
       "      <td>7,69999980926514</td>\n",
       "    </tr>\n",
       "    <tr>\n",
       "      <th>2</th>\n",
       "      <td>1</td>\n",
       "      <td>1</td>\n",
       "      <td>2008</td>\n",
       "      <td>0</td>\n",
       "      <td>30</td>\n",
       "      <td>7,69999980926514</td>\n",
       "    </tr>\n",
       "    <tr>\n",
       "      <th>3</th>\n",
       "      <td>1</td>\n",
       "      <td>1</td>\n",
       "      <td>2008</td>\n",
       "      <td>0</td>\n",
       "      <td>45</td>\n",
       "      <td>7,40000009536743</td>\n",
       "    </tr>\n",
       "    <tr>\n",
       "      <th>4</th>\n",
       "      <td>1</td>\n",
       "      <td>1</td>\n",
       "      <td>2008</td>\n",
       "      <td>1</td>\n",
       "      <td>0</td>\n",
       "      <td>7,40000009536743</td>\n",
       "    </tr>\n",
       "  </tbody>\n",
       "</table>\n",
       "</div>"
      ],
      "text/plain": [
       "   DIA  MES   ANO  HORA  MINUTO          JPS_12B1\n",
       "0    1    1  2008     0       0  7,90000009536743\n",
       "1    1    1  2008     0      15  7,69999980926514\n",
       "2    1    1  2008     0      30  7,69999980926514\n",
       "3    1    1  2008     0      45  7,40000009536743\n",
       "4    1    1  2008     1       0  7,40000009536743"
      ]
     },
     "execution_count": 4,
     "metadata": {},
     "output_type": "execute_result"
    }
   ],
   "source": [
    "#informamos em ordem, a coluna que desejamos excluir, afirmamos que a auteração deve ser feita no DF original e por fim,\n",
    "#dizemos que a exclusão é aplicada na coluna. \n",
    "\n",
    "df_bruto.drop('Unnamed: 6', inplace=True, axis=1)\n",
    "df_bruto.head()"
   ]
  },
  {
   "cell_type": "markdown",
   "metadata": {},
   "source": [
    "#### 1 - Criando uma cópia do dataframe bruto para realizar as modificações desejadas (formatação Datetime)"
   ]
  },
  {
   "cell_type": "code",
   "execution_count": 5,
   "metadata": {},
   "outputs": [],
   "source": [
    "#Criando um novo dataframe para que as modificações desejadas sejam feitas\n",
    "\n",
    "df = pd.DataFrame(columns=['Tempo','Potencia']) "
   ]
  },
  {
   "cell_type": "code",
   "execution_count": 6,
   "metadata": {},
   "outputs": [],
   "source": [
    "#Adicionando todas as datas do DF, modificados para o \"formato datetime\", a uma lista chamada tempo\n",
    "#len(df_bruto.index) retorna a quantidade de linhas do df_bruto\n",
    "\n",
    "tempo = []\n",
    "\n",
    "for i in  range(len(df_bruto.index)):\n",
    "   tempo.append(dt.datetime(df_bruto['ANO'].iloc[i], df_bruto['MES'].iloc[i],\\\n",
    "                            df_bruto['DIA'].iloc[i], df_bruto['HORA'].iloc[i], df_bruto['MINUTO'].iloc[i]))"
   ]
  },
  {
   "cell_type": "markdown",
   "metadata": {},
   "source": [
    "#### Criando as colunas do novo dataframe formado"
   ]
  },
  {
   "cell_type": "code",
   "execution_count": 7,
   "metadata": {},
   "outputs": [],
   "source": [
    "#a coluna Tempo é formada pela lista tempo\n",
    "\n",
    "df['Tempo'] = tempo"
   ]
  },
  {
   "cell_type": "code",
   "execution_count": 8,
   "metadata": {},
   "outputs": [],
   "source": [
    "#No dataframe bruto temos a potência na coluna coluna JPS_12B1 \n",
    "#dada por uma string que representa um número e utiliza ',' como notação. Devemos alterar ',' -> ''\n",
    "#além disso vamos tornar a string em um float\n",
    "\n",
    "df['Potencia'] = df_bruto['JPS_12B1'].str.replace(',','').astype(float)"
   ]
  },
  {
   "cell_type": "code",
   "execution_count": 9,
   "metadata": {},
   "outputs": [
    {
     "data": {
      "text/html": [
       "<div>\n",
       "<style scoped>\n",
       "    .dataframe tbody tr th:only-of-type {\n",
       "        vertical-align: middle;\n",
       "    }\n",
       "\n",
       "    .dataframe tbody tr th {\n",
       "        vertical-align: top;\n",
       "    }\n",
       "\n",
       "    .dataframe thead th {\n",
       "        text-align: right;\n",
       "    }\n",
       "</style>\n",
       "<table border=\"1\" class=\"dataframe\">\n",
       "  <thead>\n",
       "    <tr style=\"text-align: right;\">\n",
       "      <th></th>\n",
       "      <th>Tempo</th>\n",
       "      <th>Potencia</th>\n",
       "    </tr>\n",
       "  </thead>\n",
       "  <tbody>\n",
       "    <tr>\n",
       "      <th>0</th>\n",
       "      <td>2008-01-01 00:00:00</td>\n",
       "      <td>7.900000e+14</td>\n",
       "    </tr>\n",
       "    <tr>\n",
       "      <th>1</th>\n",
       "      <td>2008-01-01 00:15:00</td>\n",
       "      <td>7.700000e+14</td>\n",
       "    </tr>\n",
       "    <tr>\n",
       "      <th>2</th>\n",
       "      <td>2008-01-01 00:30:00</td>\n",
       "      <td>7.700000e+14</td>\n",
       "    </tr>\n",
       "    <tr>\n",
       "      <th>3</th>\n",
       "      <td>2008-01-01 00:45:00</td>\n",
       "      <td>7.400000e+14</td>\n",
       "    </tr>\n",
       "    <tr>\n",
       "      <th>4</th>\n",
       "      <td>2008-01-01 01:00:00</td>\n",
       "      <td>7.400000e+14</td>\n",
       "    </tr>\n",
       "  </tbody>\n",
       "</table>\n",
       "</div>"
      ],
      "text/plain": [
       "                Tempo      Potencia\n",
       "0 2008-01-01 00:00:00  7.900000e+14\n",
       "1 2008-01-01 00:15:00  7.700000e+14\n",
       "2 2008-01-01 00:30:00  7.700000e+14\n",
       "3 2008-01-01 00:45:00  7.400000e+14\n",
       "4 2008-01-01 01:00:00  7.400000e+14"
      ]
     },
     "execution_count": 9,
     "metadata": {},
     "output_type": "execute_result"
    }
   ],
   "source": [
    "df.head()"
   ]
  },
  {
   "cell_type": "markdown",
   "metadata": {},
   "source": [
    "#### 2 - Criando um novo dataframe com as potências máximas de cada dia"
   ]
  },
  {
   "cell_type": "code",
   "execution_count": 10,
   "metadata": {},
   "outputs": [],
   "source": [
    "df_maxpot_dia = pd.DataFrame(columns=['Dia','Potencia Maxima']) "
   ]
  },
  {
   "cell_type": "code",
   "execution_count": 11,
   "metadata": {},
   "outputs": [],
   "source": [
    "#O método .dt.date retorna um datetime ano-mês-dia, ou seja retira as horas e minutos dos nossos dados\n",
    "#A função set() retorna essa lista de datetimes sem repetições, visto que cada dia só terá uma pôt. máxima\n",
    "#A função sorted() organiza a lista sem repetições de forma crescente\n",
    "\n",
    "df_maxpot_dia['Dia'] = sorted(set(df['Tempo'].dt.date))    "
   ]
  },
  {
   "cell_type": "markdown",
   "metadata": {},
   "source": [
    "#### Desejamos nesse próximo bloco realizar a escolha da potência máxima diária. Para isso foi criado um laço de repetição \"for\" que a cada interação estará salvando na coluna 'Potencia Maxima' o valor máximo da potência no dia representado pela linha do dataframe.\n",
    "\n",
    "##### Explicando:\n",
    "\n",
    "##### -> df_maxpot_dia.index retorna o número de linhas do dataframe, ou seja a quantidade de dias;\n",
    "\n",
    "##### -> A funça range(quantidade_de_dias) retorna uma lista de 0 até a quantidade_de_dias; \n",
    "    \n",
    "##### -> df.loc[df['Tempo'].dt.date == df_maxpot_dia['Dia'][linha]] retorna um Dataframe de todas as potências aferidas no dia em questão, representado pela variável \"linha\"; \n",
    "\n",
    "##### -> Ao adicionarmos [\"Potência\"].max(), ao dataframe de todas as potências aferidas no dia, estaremos retornando o valor máximo de potência aferido no dia;\n",
    "\n",
    "##### -> Esse valor, é salvo no dataframe df_maxpot_dia na coluna 'Potencia Maxima' e na linha referente ao dia em questão."
   ]
  },
  {
   "cell_type": "code",
   "execution_count": 12,
   "metadata": {},
   "outputs": [],
   "source": [
    "quantidade_de_dias = len(df_maxpot_dia.index)\n",
    "\n",
    "for linha in range(quantidade_de_dias):\n",
    "    df_maxpot_dia.loc[linha, 'Potencia Maxima'] =  df.loc[df['Tempo'].dt.date == df_maxpot_dia['Dia'][linha]]['Potencia'].max()"
   ]
  },
  {
   "cell_type": "code",
   "execution_count": 13,
   "metadata": {},
   "outputs": [
    {
     "data": {
      "text/html": [
       "<div>\n",
       "<style scoped>\n",
       "    .dataframe tbody tr th:only-of-type {\n",
       "        vertical-align: middle;\n",
       "    }\n",
       "\n",
       "    .dataframe tbody tr th {\n",
       "        vertical-align: top;\n",
       "    }\n",
       "\n",
       "    .dataframe thead th {\n",
       "        text-align: right;\n",
       "    }\n",
       "</style>\n",
       "<table border=\"1\" class=\"dataframe\">\n",
       "  <thead>\n",
       "    <tr style=\"text-align: right;\">\n",
       "      <th></th>\n",
       "      <th>Dia</th>\n",
       "      <th>Potencia Maxima</th>\n",
       "    </tr>\n",
       "  </thead>\n",
       "  <tbody>\n",
       "    <tr>\n",
       "      <th>0</th>\n",
       "      <td>2008-01-01</td>\n",
       "      <td>8.95e+14</td>\n",
       "    </tr>\n",
       "    <tr>\n",
       "      <th>1</th>\n",
       "      <td>2008-01-02</td>\n",
       "      <td>9.9e+14</td>\n",
       "    </tr>\n",
       "    <tr>\n",
       "      <th>2</th>\n",
       "      <td>2008-01-03</td>\n",
       "      <td>9.9e+14</td>\n",
       "    </tr>\n",
       "    <tr>\n",
       "      <th>3</th>\n",
       "      <td>2008-01-04</td>\n",
       "      <td>9.9e+14</td>\n",
       "    </tr>\n",
       "    <tr>\n",
       "      <th>4</th>\n",
       "      <td>2008-01-05</td>\n",
       "      <td>9.8e+14</td>\n",
       "    </tr>\n",
       "  </tbody>\n",
       "</table>\n",
       "</div>"
      ],
      "text/plain": [
       "          Dia Potencia Maxima\n",
       "0  2008-01-01        8.95e+14\n",
       "1  2008-01-02         9.9e+14\n",
       "2  2008-01-03         9.9e+14\n",
       "3  2008-01-04         9.9e+14\n",
       "4  2008-01-05         9.8e+14"
      ]
     },
     "execution_count": 13,
     "metadata": {},
     "output_type": "execute_result"
    }
   ],
   "source": [
    "df_maxpot_dia.head()"
   ]
  },
  {
   "cell_type": "markdown",
   "metadata": {},
   "source": [
    "#### 3 - Criando um novo dataframe com as potências máximas de cada semana"
   ]
  },
  {
   "cell_type": "code",
   "execution_count": 14,
   "metadata": {},
   "outputs": [
    {
     "data": {
      "text/html": [
       "<div>\n",
       "<style scoped>\n",
       "    .dataframe tbody tr th:only-of-type {\n",
       "        vertical-align: middle;\n",
       "    }\n",
       "\n",
       "    .dataframe tbody tr th {\n",
       "        vertical-align: top;\n",
       "    }\n",
       "\n",
       "    .dataframe thead th {\n",
       "        text-align: right;\n",
       "    }\n",
       "</style>\n",
       "<table border=\"1\" class=\"dataframe\">\n",
       "  <thead>\n",
       "    <tr style=\"text-align: right;\">\n",
       "      <th></th>\n",
       "      <th>Semana</th>\n",
       "      <th>Potencia Maxima</th>\n",
       "    </tr>\n",
       "  </thead>\n",
       "  <tbody>\n",
       "  </tbody>\n",
       "</table>\n",
       "</div>"
      ],
      "text/plain": [
       "Empty DataFrame\n",
       "Columns: [Semana, Potencia Maxima]\n",
       "Index: []"
      ]
     },
     "execution_count": 14,
     "metadata": {},
     "output_type": "execute_result"
    }
   ],
   "source": [
    "df_maxpot_semana = pd.DataFrame(columns=['Semana','Potencia Maxima']) \n",
    "df_maxpot_semana.head()"
   ]
  },
  {
   "cell_type": "markdown",
   "metadata": {},
   "source": [
    "#### No dataframe os dados começam a contar do dia 1 de janeiro de 2008, terça-feira, porém a primeira semana só deve ser contabilizada a partir do primeiro domingo do mês (6 de janeiro)"
   ]
  },
  {
   "cell_type": "code",
   "execution_count": 15,
   "metadata": {},
   "outputs": [
    {
     "data": {
      "text/html": [
       "<div>\n",
       "<style scoped>\n",
       "    .dataframe tbody tr th:only-of-type {\n",
       "        vertical-align: middle;\n",
       "    }\n",
       "\n",
       "    .dataframe tbody tr th {\n",
       "        vertical-align: top;\n",
       "    }\n",
       "\n",
       "    .dataframe thead th {\n",
       "        text-align: right;\n",
       "    }\n",
       "</style>\n",
       "<table border=\"1\" class=\"dataframe\">\n",
       "  <thead>\n",
       "    <tr style=\"text-align: right;\">\n",
       "      <th></th>\n",
       "      <th>Semana</th>\n",
       "      <th>Potencia Maxima</th>\n",
       "    </tr>\n",
       "  </thead>\n",
       "  <tbody>\n",
       "    <tr>\n",
       "      <th>0</th>\n",
       "      <td>0</td>\n",
       "      <td>NaN</td>\n",
       "    </tr>\n",
       "    <tr>\n",
       "      <th>1</th>\n",
       "      <td>1</td>\n",
       "      <td>NaN</td>\n",
       "    </tr>\n",
       "    <tr>\n",
       "      <th>2</th>\n",
       "      <td>2</td>\n",
       "      <td>NaN</td>\n",
       "    </tr>\n",
       "    <tr>\n",
       "      <th>3</th>\n",
       "      <td>3</td>\n",
       "      <td>NaN</td>\n",
       "    </tr>\n",
       "    <tr>\n",
       "      <th>4</th>\n",
       "      <td>4</td>\n",
       "      <td>NaN</td>\n",
       "    </tr>\n",
       "  </tbody>\n",
       "</table>\n",
       "</div>"
      ],
      "text/plain": [
       "   Semana Potencia Maxima\n",
       "0       0             NaN\n",
       "1       1             NaN\n",
       "2       2             NaN\n",
       "3       3             NaN\n",
       "4       4             NaN"
      ]
     },
     "execution_count": 15,
     "metadata": {},
     "output_type": "execute_result"
    }
   ],
   "source": [
    "#tanto os primeros 5 dias quanto os últimos 3 dias devem ser ignorados?\n",
    "semanas = (df_maxpot_dia['Dia'].count()-5)//7   \n",
    "\n",
    "#criando a coluna com referente a semana \n",
    "df_maxpot_semana['Semana'] = [s for s in range(semanas)]\n",
    "df_maxpot_semana.head()"
   ]
  },
  {
   "cell_type": "code",
   "execution_count": 16,
   "metadata": {},
   "outputs": [],
   "source": [
    "for linha in range(semanas):\n",
    "    df_maxpot_semana.loc[linha,'Potencia Maxima'] = df_maxpot_dia.iloc[5+7*linha:12+7*linha]['Potencia Maxima'].max()"
   ]
  },
  {
   "cell_type": "code",
   "execution_count": 17,
   "metadata": {},
   "outputs": [
    {
     "data": {
      "text/html": [
       "<div>\n",
       "<style scoped>\n",
       "    .dataframe tbody tr th:only-of-type {\n",
       "        vertical-align: middle;\n",
       "    }\n",
       "\n",
       "    .dataframe tbody tr th {\n",
       "        vertical-align: top;\n",
       "    }\n",
       "\n",
       "    .dataframe thead th {\n",
       "        text-align: right;\n",
       "    }\n",
       "</style>\n",
       "<table border=\"1\" class=\"dataframe\">\n",
       "  <thead>\n",
       "    <tr style=\"text-align: right;\">\n",
       "      <th></th>\n",
       "      <th>Semana</th>\n",
       "      <th>Potencia Maxima</th>\n",
       "    </tr>\n",
       "  </thead>\n",
       "  <tbody>\n",
       "    <tr>\n",
       "      <th>0</th>\n",
       "      <td>0</td>\n",
       "      <td>9.9e+14</td>\n",
       "    </tr>\n",
       "    <tr>\n",
       "      <th>1</th>\n",
       "      <td>1</td>\n",
       "      <td>9.94e+14</td>\n",
       "    </tr>\n",
       "    <tr>\n",
       "      <th>2</th>\n",
       "      <td>2</td>\n",
       "      <td>9.9e+14</td>\n",
       "    </tr>\n",
       "    <tr>\n",
       "      <th>3</th>\n",
       "      <td>3</td>\n",
       "      <td>9.9e+14</td>\n",
       "    </tr>\n",
       "    <tr>\n",
       "      <th>4</th>\n",
       "      <td>4</td>\n",
       "      <td>9.9e+14</td>\n",
       "    </tr>\n",
       "    <tr>\n",
       "      <th>5</th>\n",
       "      <td>5</td>\n",
       "      <td>9.9e+14</td>\n",
       "    </tr>\n",
       "    <tr>\n",
       "      <th>6</th>\n",
       "      <td>6</td>\n",
       "      <td>9.9e+14</td>\n",
       "    </tr>\n",
       "    <tr>\n",
       "      <th>7</th>\n",
       "      <td>7</td>\n",
       "      <td>9.9e+14</td>\n",
       "    </tr>\n",
       "    <tr>\n",
       "      <th>8</th>\n",
       "      <td>8</td>\n",
       "      <td>9.9e+14</td>\n",
       "    </tr>\n",
       "    <tr>\n",
       "      <th>9</th>\n",
       "      <td>9</td>\n",
       "      <td>9.9e+14</td>\n",
       "    </tr>\n",
       "    <tr>\n",
       "      <th>10</th>\n",
       "      <td>10</td>\n",
       "      <td>9.9e+14</td>\n",
       "    </tr>\n",
       "    <tr>\n",
       "      <th>11</th>\n",
       "      <td>11</td>\n",
       "      <td>9.95e+14</td>\n",
       "    </tr>\n",
       "    <tr>\n",
       "      <th>12</th>\n",
       "      <td>12</td>\n",
       "      <td>9.9e+14</td>\n",
       "    </tr>\n",
       "    <tr>\n",
       "      <th>13</th>\n",
       "      <td>13</td>\n",
       "      <td>9.9e+14</td>\n",
       "    </tr>\n",
       "    <tr>\n",
       "      <th>14</th>\n",
       "      <td>14</td>\n",
       "      <td>9.9e+14</td>\n",
       "    </tr>\n",
       "  </tbody>\n",
       "</table>\n",
       "</div>"
      ],
      "text/plain": [
       "    Semana Potencia Maxima\n",
       "0        0         9.9e+14\n",
       "1        1        9.94e+14\n",
       "2        2         9.9e+14\n",
       "3        3         9.9e+14\n",
       "4        4         9.9e+14\n",
       "5        5         9.9e+14\n",
       "6        6         9.9e+14\n",
       "7        7         9.9e+14\n",
       "8        8         9.9e+14\n",
       "9        9         9.9e+14\n",
       "10      10         9.9e+14\n",
       "11      11        9.95e+14\n",
       "12      12         9.9e+14\n",
       "13      13         9.9e+14\n",
       "14      14         9.9e+14"
      ]
     },
     "execution_count": 17,
     "metadata": {},
     "output_type": "execute_result"
    }
   ],
   "source": [
    "df_maxpot_semana.head(n=15)"
   ]
  },
  {
   "cell_type": "code",
   "execution_count": 43,
   "metadata": {},
   "outputs": [
    {
     "data": {
      "image/png": "[encoded data removed]",
      "text/plain": [
       "<Figure size 432x288 with 1 Axes>"
      ]
     },
     "metadata": {
      "needs_background": "light"
     },
     "output_type": "display_data"
    }
   ],
   "source": [
    "plt.plot(df_maxpot_semana.Semana, df_maxpot_semana['Potencia Maxima'])\n",
    "plt.grid()\n",
    "plt.show()"
   ]
  },
  {
   "cell_type": "code",
   "execution_count": 19,
   "metadata": {},
   "outputs": [
    {
     "data": {
      "text/plain": [
       "312"
      ]
     },
     "execution_count": 19,
     "metadata": {},
     "output_type": "execute_result"
    }
   ],
   "source": [
    "(df_maxpot_dia['Dia'].count()-5)//7\n"
   ]
  },
  {
   "cell_type": "code",
   "execution_count": 20,
   "metadata": {},
   "outputs": [
    {
     "data": {
      "text/plain": [
       "3"
      ]
     },
     "execution_count": 20,
     "metadata": {},
     "output_type": "execute_result"
    }
   ],
   "source": [
    "(df_maxpot_dia['Dia'].count()-5)%7 "
   ]
  },
  {
   "cell_type": "code",
   "execution_count": 42,
   "metadata": {},
   "outputs": [
    {
     "data": {
      "text/plain": [
       "96     7.550000e+14\n",
       "97     7.400000e+14\n",
       "98     7.400000e+14\n",
       "99     7.200000e+14\n",
       "100    7.200000e+14\n",
       "           ...     \n",
       "187    8.900000e+14\n",
       "188    8.800000e+14\n",
       "189    8.800000e+14\n",
       "190    8.400000e+14\n",
       "191    8.100000e+14\n",
       "Name: Potencia, Length: 96, dtype: float64"
      ]
     },
     "execution_count": 42,
     "metadata": {},
     "output_type": "execute_result"
    }
   ],
   "source": []
  },
  {
   "cell_type": "code",
   "execution_count": null,
   "metadata": {},
   "outputs": [],
   "source": []
  }
 ],
 "metadata": {
  "kernelspec": {
   "display_name": "Python 3",
   "language": "python",
   "name": "python3"
  },
  "language_info": {
   "codemirror_mode": {
    "name": "ipython",
    "version": 3
   },
   "file_extension": ".py",
   "mimetype": "text/x-python",
   "name": "python",
   "nbconvert_exporter": "python",
   "pygments_lexer": "ipython3",
   "version": "3.8.3"
  }
 },
 "nbformat": 4,
 "nbformat_minor": 4
}
